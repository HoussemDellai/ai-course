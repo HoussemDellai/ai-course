{
 "cells": [
  {
   "cell_type": "markdown",
   "metadata": {},
   "source": [
    "### Setup"
   ]
  },
  {
   "cell_type": "code",
   "execution_count": null,
   "metadata": {},
   "outputs": [],
   "source": [
    "%pip install openai\n",
    "%pip install azure-identity\n",
    "%pip install azure-search-documents\n",
    "%pip install numpy"
   ]
  },
  {
   "cell_type": "code",
   "execution_count": null,
   "metadata": {},
   "outputs": [],
   "source": [
    "import numpy as np\n",
    "from azure.identity import DefaultAzureCredential, get_bearer_token_provider\n",
    "from openai import AzureOpenAI\n",
    "\n",
    "# Replace these with your service-specific values, make sure you give your user access to use these resources, or use keys for auth\n",
    "AZURE_OPENAI_URL = \"<<your openai service url>>\" # your Azure OpenAI instance\n",
    "AZURE_OPENAI_EMBEDDING_DEPLOYMENT = \"<<embedding model deployment>>\" # your Azure OpenAI deployment for an embedding model\n",
    "AZURE_SEARCH_SERVICE = \"<<your search service url>>\" # your Azure Search service\n",
    "AZURE_SEARCH_TINY_INDEX = \"tinyvector\" # A small index we create in this notebook with tiny vectors\n",
    "AZURE_SEARCH_BIGGER_INDEX = \"<<your search index>>\" # Index with richer content, you can create it with the prep scripts in https://github.com/azure-samples/azure-search-openai-demo/, no need to deploy the whole sample\n",
    "\n",
    "creds = DefaultAzureCredential()\n",
    "client = AzureOpenAI(azure_endpoint=AZURE_OPENAI_URL, \n",
    "                     azure_ad_token_provider=get_bearer_token_provider(creds, \"https://cognitiveservices.azure.com/.default\"),\n",
    "                     api_version=\"2024-02-01\")\n",
    "\n",
    "def get_embedding(text):\n",
    "    return client.embeddings.create(input=text, model=AZURE_OPENAI_EMBEDDING_DEPLOYMENT).data[0].embedding\n",
    "\n",
    "def cosine_similarity(v1, v2):\n",
    "    return np.dot(v1, v2) / (np.linalg.norm(v1) * np.linalg.norm(v2))"
   ]
  },
  {
   "cell_type": "markdown",
   "metadata": {},
   "source": [
    "### Vector representations"
   ]
  },
  {
   "cell_type": "code",
   "execution_count": null,
   "metadata": {},
   "outputs": [],
   "source": [
    "v = get_embedding(\"hello, world!\")"
   ]
  },
  {
   "cell_type": "code",
   "execution_count": null,
   "metadata": {},
   "outputs": [],
   "source": [
    "len(v)"
   ]
  },
  {
   "cell_type": "markdown",
   "metadata": {},
   "source": [
    "### Document similarity modeled as cosine distance"
   ]
  },
  {
   "cell_type": "code",
   "execution_count": null,
   "metadata": {},
   "outputs": [],
   "source": [
    "sentences1 = ['The new movie is awesome',\n",
    "             'The new movie is awesome',\n",
    "             'The new movie is awesome']\n",
    "\n",
    "sentences2 = ['The dog plays in the garden',\n",
    "              'This recent movie is so good',\n",
    "              'The new movie is awesome']\n",
    "\n",
    "embeddings1 = [get_embedding(s) for s in sentences1]\n",
    "embeddings2 = [get_embedding(s) for s in sentences2]\n",
    "\n",
    "for i in range(len(sentences1)):\n",
    "    print(\"{} \\t\\t {} \\t\\t Score: {:.4f}\".format(sentences1[i], sentences2[i], cosine_similarity(embeddings1[i], embeddings2[i])))"
   ]
  },
  {
   "cell_type": "markdown",
   "metadata": {},
   "source": [
    "### Create tiny a vector index"
   ]
  },
  {
   "cell_type": "code",
   "execution_count": null,
   "metadata": {},
   "outputs": [],
   "source": [
    "from azure.search.documents.indexes import SearchIndexClient\n",
    "from azure.search.documents.indexes.models import *\n",
    "\n",
    "index = SearchIndex(\n",
    "    name=AZURE_SEARCH_TINY_INDEX, \n",
    "    fields=[\n",
    "        SimpleField(name=\"id\", type=SearchFieldDataType.String, key=True),\n",
    "        SearchField(name=\"myVector\", \n",
    "                    type=SearchFieldDataType.Collection(SearchFieldDataType.Single), \n",
    "                    searchable=True, \n",
    "                    vector_search_dimensions=3,\n",
    "                    vector_search_profile_name=\"vprofile\")\n",
    "    ],\n",
    "    vector_search=VectorSearch(\n",
    "        algorithms=[HnswAlgorithmConfiguration(name=\"algo\", parameters=HnswParameters(metric=\"cosine\"))],\n",
    "        profiles=[VectorSearchProfile(name=\"vprofile\", algorithm_configuration_name=\"algo\")]\n",
    "    )\n",
    ")\n",
    "\n",
    "index_client = SearchIndexClient(AZURE_SEARCH_SERVICE, credential=creds)\n",
    "index_client.create_index(index)"
   ]
  },
  {
   "cell_type": "markdown",
   "metadata": {},
   "source": [
    "### Insert a few documents with tiny vectors"
   ]
  },
  {
   "cell_type": "code",
   "execution_count": null,
   "metadata": {},
   "outputs": [],
   "source": [
    "from azure.search.documents import SearchClient\n",
    "\n",
    "search_client = SearchClient(AZURE_SEARCH_SERVICE, AZURE_SEARCH_TINY_INDEX, credential=creds)\n",
    "search_client.upload_documents(documents=[\n",
    "    {\"id\": \"1\", \"myVector\": [1, 2, 3]},\n",
    "    {\"id\": \"2\", \"myVector\": [1, 1, 3]},\n",
    "    {\"id\": \"3\", \"myVector\": [4, 5, 6]}])"
   ]
  },
  {
   "cell_type": "markdown",
   "metadata": {},
   "source": [
    "### Search using vector similarity"
   ]
  },
  {
   "cell_type": "code",
   "execution_count": null,
   "metadata": {},
   "outputs": [],
   "source": [
    "from azure.search.documents.models import VectorizedQuery\n",
    "\n",
    "r = search_client.search(None, vector_queries=[VectorizedQuery(vector=[2, 2, 3], k_nearest_neighbors=3, fields=\"myVector\")])\n",
    "for doc in r:\n",
    "    print(f\"id: {doc['id']}, score: {doc['@search.score']}\")"
   ]
  },
  {
   "cell_type": "markdown",
   "metadata": {},
   "source": [
    "### Searching on a real index"
   ]
  },
  {
   "cell_type": "code",
   "execution_count": null,
   "metadata": {},
   "outputs": [],
   "source": [
    "search_client = SearchClient(AZURE_SEARCH_SERVICE, AZURE_SEARCH_BIGGER_INDEX, credential=creds)"
   ]
  },
  {
   "cell_type": "markdown",
   "metadata": {},
   "source": [
    "#### Pure vector search"
   ]
  },
  {
   "cell_type": "code",
   "execution_count": null,
   "metadata": {},
   "outputs": [],
   "source": [
    "search_query = \"learning about underwater activities\"\n",
    "search_vector = get_embedding(search_query)\n",
    "r = search_client.search(None, top=5, vector_queries=[VectorizedQuery(vector=search_vector, k_nearest_neighbors=50, fields=\"embedding\")])\n",
    "for doc in r:\n",
    "    content = doc[\"content\"].replace(\"\\n\", \" \")[:150]\n",
    "    print(f\"score: {doc['@search.score']}. {content}\")"
   ]
  },
  {
   "cell_type": "markdown",
   "metadata": {},
   "source": [
    "#### Keyword search and exact matches"
   ]
  },
  {
   "cell_type": "code",
   "execution_count": null,
   "metadata": {},
   "outputs": [],
   "source": [
    "search_query = \"compliance@contoso.com\"\n",
    "search_vector = get_embedding(search_query)\n",
    "r = search_client.search(None, top=5, vector_queries=[VectorizedQuery(vector=search_vector, k_nearest_neighbors=50, fields=\"embedding\")])\n",
    "for doc in r:\n",
    "    if \"compliance@contoso.com\" in doc[\"content\"]:\n",
    "        content = doc[\"content\"].replace(\"\\n\", \" \")[:150]\n",
    "        print(f\"score: {doc['@search.score']}. {content}\")"
   ]
  },
  {
   "cell_type": "code",
   "execution_count": null,
   "metadata": {},
   "outputs": [],
   "source": [
    "search_query = \"compliance@contoso.com\"\n",
    "r = search_client.search(search_query, top=5)\n",
    "for doc in r:\n",
    "    if \"compliance@contoso.com\" in doc[\"content\"]:\n",
    "        content = doc[\"content\"].replace(\"\\n\", \" \")[:150]\n",
    "        print(f\"score: {doc['@search.score']}. {content}\")"
   ]
  },
  {
   "cell_type": "markdown",
   "metadata": {},
   "source": [
    "#### Hybrid retrieval"
   ]
  },
  {
   "cell_type": "code",
   "execution_count": null,
   "metadata": {},
   "outputs": [],
   "source": [
    "search_query = \"compliance@contoso.com\" # \"learning about underwater activities\"\n",
    "search_vector = get_embedding(search_query)\n",
    "r = search_client.search(search_query, top=5, vector_queries=[VectorizedQuery(vector=search_vector, k_nearest_neighbors=50, fields=\"embedding\")])\n",
    "for doc in r:\n",
    "    if \"compliance\" in doc[\"content\"].lower():\n",
    "        content = doc[\"content\"].replace(\"\\n\", \" \")[:150]\n",
    "        print(f\"score: {doc['@search.score']}. {content}\")"
   ]
  },
  {
   "cell_type": "markdown",
   "metadata": {},
   "source": [
    "#### Hybrid + Semantic Reranking"
   ]
  },
  {
   "cell_type": "code",
   "execution_count": null,
   "metadata": {},
   "outputs": [],
   "source": [
    "search_query = \"learning about underwater activities\"\n",
    "search_vector = get_embedding(search_query)\n",
    "r = search_client.search(\n",
    "        search_query,\n",
    "        top=5, \n",
    "        vector_queries=[VectorizedQuery(vector=search_vector, k_nearest_neighbors=50, fields=\"embedding\")],\n",
    "        query_type=\"semantic\",\n",
    "        semantic_configuration_name=\"default\")\n",
    "\n",
    "for doc in r:\n",
    "    content = doc[\"content\"].replace(\"\\n\", \" \")[:150]\n",
    "    print(f\"score: {doc['@search.score']}, reranker: {doc['@search.reranker_score']}. {content}\")"
   ]
  }
 ],
 "metadata": {
  "kernelspec": {
   "display_name": "Python 3",
   "language": "python",
   "name": "python3"
  },
  "language_info": {
   "codemirror_mode": {
    "name": "ipython",
    "version": 3
   },
   "file_extension": ".py",
   "mimetype": "text/x-python",
   "name": "python",
   "nbconvert_exporter": "python",
   "pygments_lexer": "ipython3",
   "version": "3.12.3"
  },
  "orig_nbformat": 4
 },
 "nbformat": 4,
 "nbformat_minor": 2
}